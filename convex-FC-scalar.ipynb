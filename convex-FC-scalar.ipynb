{
 "metadata": {
  "language_info": {
   "codemirror_mode": {
    "name": "ipython",
    "version": 3
   },
   "file_extension": ".py",
   "mimetype": "text/x-python",
   "name": "python",
   "nbconvert_exporter": "python",
   "pygments_lexer": "ipython3",
   "version": "3.7.10"
  },
  "orig_nbformat": 2,
  "kernelspec": {
   "name": "python3710jvsc74a57bd095d84d796a761969ce7cc825f98580196ffb54b57e6b518fb5fdfb0a13cd1f7e",
   "display_name": "Python 3.7.10 64-bit ('cs231n-project': conda)"
  }
 },
 "nbformat": 4,
 "nbformat_minor": 2,
 "cells": [
  {
   "cell_type": "code",
   "execution_count": 1,
   "metadata": {},
   "outputs": [],
   "source": [
    "# Uncomment this if you are using Colab\n",
    "\n",
    "# from google.colab import drive\n",
    "# drive.mount('/content/drive', force_remount=True)\n",
    "\n",
    "# import sys\n",
    "# sys.path.append('/content/drive/My Drive/cs231n-project/')"
   ]
  },
  {
   "cell_type": "code",
   "execution_count": 12,
   "metadata": {},
   "outputs": [
    {
     "output_type": "stream",
     "name": "stdout",
     "text": [
      "The autoreload extension is already loaded. To reload it, use:\n  %reload_ext autoreload\n"
     ]
    }
   ],
   "source": [
    "import numpy as np \n",
    "import cvxpy as cp\n",
    "import time\n",
    "import matplotlib.pyplot as plt\n",
    "from lib.utils import relative_error\n",
    "\n",
    "# This is a bit of magic to make matplotlib figures appear inline in the notebook\n",
    "# rather than in a new window.\n",
    "%matplotlib inline\n",
    "plt.rcParams['figure.figsize'] = (10.0, 8.0) # set default size of plots\n",
    "plt.rcParams['image.interpolation'] = 'nearest'\n",
    "plt.rcParams['image.cmap'] = 'gray'\n",
    "\n",
    "# Some more magic so that the notebook will reload external python modules;\n",
    "# see http://stackoverflow.com/questions/1907993/autoreload-of-modules-in-ipython\n",
    "%load_ext autoreload\n",
    "%autoreload 2"
   ]
  },
  {
   "cell_type": "code",
   "execution_count": 13,
   "metadata": {},
   "outputs": [],
   "source": [
    "a, b, c = 0.09, 0.5, 0.47 # polynomial activation coefficients for ReLU\n",
    "beta = 10**(-1) # regularization parameter\n",
    "max_iters = 50000 # maximum number of iterations for the convex solver\n",
    "tol = 10**(-6) # tolerance parameter"
   ]
  },
  {
   "cell_type": "code",
   "execution_count": 14,
   "metadata": {},
   "outputs": [
    {
     "output_type": "stream",
     "name": "stdout",
     "text": [
      "N, D, M = (100, 20, 5)\nX.shape = (100, 20), y.shape = (100, 1)\n"
     ]
    }
   ],
   "source": [
    "'''\n",
    "Create random input data and random labels from random\n",
    "weights.\n",
    "\n",
    "Recall that the scalar FC network can be represented by\n",
    "f(X) = sigma(X @ W1) @ W2\n",
    "\n",
    "N -> Number of examples\n",
    "D -> Dimensionality of examples\n",
    "M -> Number of hidden neurons\n",
    "\n",
    "X.shape = (N,D)\n",
    "W1.shape = (D,M)\n",
    "W2.shape = (M,1)\n",
    "'''\n",
    "N, D, M = 100, 20, 5\n",
    "np.random.seed(0)\n",
    "\n",
    "X = np.random.normal(0,1,(N,D))**4 # why **4?\n",
    "W1 = np.random.normal(0,1,(D,M))\n",
    "W2 = np.random.normal(0,1,(M,1))\n",
    "noise = np.random.normal(0,0.1,(N,1))\n",
    "\n",
    "def sigma(X):\n",
    "  return a*X**2 + b*X + c\n",
    "\n",
    "y = sigma(X @ W1) @ W2 + noise\n",
    "\n",
    "print(f'N, D, M = {N, D, M}')\n",
    "print(f'X.shape = {X.shape}, y.shape = {y.shape}')"
   ]
  },
  {
   "cell_type": "code",
   "execution_count": 15,
   "metadata": {},
   "outputs": [
    {
     "output_type": "stream",
     "name": "stdout",
     "text": [
      "########\n",
      "Started Convex FC Scalar Solver...\n",
      "Finished, time elapsed: 0.49544715881347656\n",
      "Status: optimal\n",
      "Optimal value: 5.501896617807569\n",
      "########\n"
     ]
    }
   ],
   "source": [
    "from lib.convex_fc_scalar import Convex_FC_Scalar_Solver, compute_scalar_weights_from_Z\n",
    "solver = Convex_FC_Scalar_Solver()\n",
    "Z, Z_prime, loss = solver.solve(X, y, beta, max_iters)"
   ]
  },
  {
   "cell_type": "code",
   "execution_count": 16,
   "metadata": {},
   "outputs": [
    {
     "output_type": "stream",
     "name": "stdout",
     "text": [
      "W1.shape: (20, 30)\nW2.shape: (30, 1)\nPredictions computed\nRelative error: 0.0062572478704113164\n"
     ]
    }
   ],
   "source": [
    "W1, W2 = compute_scalar_weights_from_Z(Z, Z_prime, tolerance=tol)\n",
    "print(f'W1.shape: {W1.shape}')\n",
    "print(f'W2.shape: {W2.shape}')\n",
    "\n",
    "y_pred = sigma(X @ W1) @ W2\n",
    "\n",
    "print(f'Predictions computed')\n",
    "print(f'Relative error: {relative_error(y, y_pred)}')\n"
   ]
  },
  {
   "cell_type": "code",
   "execution_count": null,
   "metadata": {},
   "outputs": [],
   "source": []
  }
 ]
}