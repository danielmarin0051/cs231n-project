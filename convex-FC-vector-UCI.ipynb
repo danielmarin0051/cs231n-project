{
 "metadata": {
  "language_info": {
   "codemirror_mode": {
    "name": "ipython",
    "version": 3
   },
   "file_extension": ".py",
   "mimetype": "text/x-python",
   "name": "python",
   "nbconvert_exporter": "python",
   "pygments_lexer": "ipython3",
   "version": "3.8.8"
  },
  "orig_nbformat": 2,
  "kernelspec": {
   "name": "python388jvsc74a57bd09577b925a68854775df3f8f47c8cb48d58c3aba35c875d15bb2fa55a13640e45",
   "display_name": "Python 3.8.8 64-bit ('cs231n': conda)"
  }
 },
 "nbformat": 4,
 "nbformat_minor": 2,
 "cells": [
  {
   "cell_type": "code",
   "execution_count": 12,
   "metadata": {},
   "outputs": [],
   "source": [
    "# Uncomment this if you are using Colab\n",
    "\n",
    "# from google.colab import drive\n",
    "# drive.mount('/content/drive', force_remount=True)\n",
    "\n",
    "# import sys\n",
    "# sys.path.append('/content/drive/My Drive/cs231n-project/')"
   ]
  },
  {
   "cell_type": "code",
   "execution_count": 13,
   "metadata": {},
   "outputs": [
    {
     "output_type": "stream",
     "name": "stdout",
     "text": [
      "The autoreload extension is already loaded. To reload it, use:\n  %reload_ext autoreload\n"
     ]
    }
   ],
   "source": [
    "import numpy as np \n",
    "import cvxpy as cp\n",
    "import time\n",
    "import matplotlib.pyplot as plt\n",
    "from lib.utils import relative_error\n",
    "\n",
    "# This is a bit of magic to make matplotlib figures appear inline in the notebook\n",
    "# rather than in a new window.\n",
    "%matplotlib inline\n",
    "plt.rcParams['figure.figsize'] = (10.0, 8.0) # set default size of plots\n",
    "plt.rcParams['image.interpolation'] = 'nearest'\n",
    "plt.rcParams['image.cmap'] = 'gray'\n",
    "\n",
    "# Some more magic so that the notebook will reload external python modules;\n",
    "# see http://stackoverflow.com/questions/1907993/autoreload-of-modules-in-ipython\n",
    "%load_ext autoreload\n",
    "%autoreload 2"
   ]
  },
  {
   "cell_type": "code",
   "execution_count": 14,
   "metadata": {},
   "outputs": [
    {
     "output_type": "stream",
     "name": "stdout",
     "text": [
      "X_train.shape = (676, 18)\ny_train.shape = (676,)\nC: 4\n"
     ]
    }
   ],
   "source": [
    "uci_dataset_name = \"statlog_vehicle_multiclass\"\n",
    "X_train = np.load(f'data/UCI/A_{uci_dataset_name}_train.npy')\n",
    "y_train = np.load(f'data/UCI/y_{uci_dataset_name}_train.npy')\n",
    "y_train = y_train.reshape((-1,))\n",
    "C = y_train.max() + 1 # number of classes\n",
    "print(f'X_train.shape = {X_train.shape}')\n",
    "print(f'y_train.shape = {y_train.shape}')\n",
    "print(f'C: {C}')"
   ]
  },
  {
   "cell_type": "code",
   "execution_count": 15,
   "metadata": {},
   "outputs": [],
   "source": [
    "from lib.convex_fc_vector import Convex_FC_Vector_Solver, Convex_FC_Vector_Solver_Vectorized"
   ]
  },
  {
   "cell_type": "code",
   "execution_count": 16,
   "metadata": {},
   "outputs": [
    {
     "output_type": "stream",
     "name": "stdout",
     "text": [
      "Y.shape = (676, 4)\n",
      "X_V.shape = (676, 343)\n",
      "Z_V.shape = (343, 4)\n",
      "########\n",
      "Started Convex FC Vector Solver...\n",
      "===============================================================================\n",
      "                                     CVXPY                                     \n",
      "                                    v1.1.12                                    \n",
      "===============================================================================\n",
      "(CVXPY) May 12 12:10:54 AM: Your problem has 2744 variables, 16 constraints, and 0 parameters.\n",
      "(CVXPY) May 12 12:10:54 AM: It is compliant with the following grammars: DCP, DQCP\n",
      "(CVXPY) May 12 12:10:54 AM: (If you need to solve this problem multiple times, but with different data, consider using parameters.)\n",
      "(CVXPY) May 12 12:10:54 AM: CVXPY will first compile your problem; then, it will invoke a numerical solver to obtain a solution.\n",
      "-------------------------------------------------------------------------------\n",
      "                                  Compilation                                  \n",
      "-------------------------------------------------------------------------------\n",
      "(CVXPY) May 12 12:10:54 AM: Compiling problem (target solver=SCS).\n",
      "(CVXPY) May 12 12:10:54 AM: Reduction chain: Dcp2Cone -> CvxAttr2Constr -> ConeMatrixStuffing -> SCS\n",
      "(CVXPY) May 12 12:10:54 AM: Applying reduction Dcp2Cone\n",
      "(CVXPY) May 12 12:10:54 AM: Applying reduction CvxAttr2Constr\n",
      "(CVXPY) May 12 12:10:54 AM: Applying reduction ConeMatrixStuffing\n",
      "(CVXPY) May 12 12:10:55 AM: Applying reduction SCS\n",
      "(CVXPY) May 12 12:10:55 AM: Finished problem compilation (took 8.172e-01 seconds).\n",
      "-------------------------------------------------------------------------------\n",
      "                                Numerical solver                               \n",
      "-------------------------------------------------------------------------------\n",
      "(CVXPY) May 12 12:10:55 AM: Invoking solver SCS  to obtain a solution.\n",
      "----------------------------------------------------------------------------\n",
      "\tSCS v2.1.3 - Splitting Conic Solver\n",
      "\t(c) Brendan O'Donoghue, Stanford University, 2012\n",
      "----------------------------------------------------------------------------\n",
      "Lin-sys: sparse-direct, nnz in A = 1029194\n",
      "eps = 1.00e-04, alpha = 1.50, max_iters = 50000, normalize = 1, scale = 1.00\n",
      "acceleration_lookback = 10, rho_x = 1.00e-03\n",
      "Variables n = 1521, constraints m = 4234\n",
      "Cones:\tprimal zero / dual free vars: 8\n",
      "\tsoc vars: 2706, soc blks: 1\n",
      "\tsd vars: 1520, sd blks: 8\n",
      "Setup time: 4.32e-01s\n",
      "----------------------------------------------------------------------------\n",
      " Iter | pri res | dua res | rel gap | pri obj | dua obj | kap/tau | time (s)\n",
      "----------------------------------------------------------------------------\n",
      "     0| 7.79e+19  9.27e+19  1.00e+00 -3.48e+21  3.58e+21  5.63e+21  1.30e-02 \n",
      "   100| 2.33e-04  3.97e-04  9.34e-06  1.01e+02  1.01e+02  1.20e-16  6.10e-01 \n",
      "   140| 1.22e-05  2.93e-05  2.63e-07  1.01e+02  1.01e+02  8.72e-16  8.38e-01 \n",
      "----------------------------------------------------------------------------\n",
      "Status: Solved\n",
      "Timing: Solve time: 8.38e-01s\n",
      "\tLin-sys: nnz in L factor: 1611029, avg solve time: 4.62e-03s\n",
      "\tCones: avg projection time: 7.93e-04s\n",
      "\tAcceleration: avg step time: 2.76e-04s\n",
      "----------------------------------------------------------------------------\n",
      "Error metrics:\n",
      "dist(s, K) = 3.3647e-09, dist(y, K*) = 1.6747e-09, s'y/|s||y| = -2.5403e-13\n",
      "primal res: |Ax + s - b|_2 / (1 + |b|_2) = 1.2229e-05\n",
      "dual res:   |A'y + c|_2 / (1 + |c|_2) = 2.9320e-05\n",
      "rel gap:    |c'x + b'y| / (1 + |c'x| + |b'y|) = 2.6304e-07\n",
      "----------------------------------------------------------------------------\n",
      "c'x = 101.4272, -b'y = 101.4273\n",
      "============================================================================\n",
      "-------------------------------------------------------------------------------\n",
      "                                    Summary                                    \n",
      "-------------------------------------------------------------------------------\n",
      "(CVXPY) May 12 12:10:56 AM: Problem status: optimal\n",
      "(CVXPY) May 12 12:10:56 AM: Optimal value: 1.014e+02\n",
      "(CVXPY) May 12 12:10:56 AM: Compilation took 8.172e-01 seconds\n",
      "(CVXPY) May 12 12:10:56 AM: Solver (including time spent in interface) took 1.289e+00 seconds\n",
      "Finished, time elapsed: 2.1199100017547607\n",
      "Status: optimal\n",
      "Optimal value: 101.43228259411062\n",
      "########\n"
     ]
    }
   ],
   "source": [
    "solver_vectorized = Convex_FC_Vector_Solver_Vectorized()\n",
    "Z_vec, Z_prime_vec, loss_vec = solver_vectorized.solve(X_train, y_train, C, beta=1, max_iters=50000, verbose=True)\n",
    "\n"
   ]
  },
  {
   "cell_type": "code",
   "execution_count": 17,
   "metadata": {},
   "outputs": [],
   "source": [
    "# solver = Convex_FC_Vector_Solver()\n",
    "# Z, Z_prime, loss = solver.solve(X_train, y_train, C, beta=0, max_iters=50000, verbose=False)\n"
   ]
  },
  {
   "cell_type": "code",
   "execution_count": 18,
   "metadata": {},
   "outputs": [
    {
     "output_type": "stream",
     "name": "stdout",
     "text": [
      "train_accuracy: 0.8653846153846154, loss_vec: 101.43228259411062\n"
     ]
    }
   ],
   "source": [
    "Y_hat_vec = solver_vectorized.predict(X_train, Z_vec, Z_prime_vec)\n",
    "y_pred_vec = np.argmax(Y_hat_vec, axis=1)\n",
    "train_accuracy_vec = np.sum(y_train == y_pred_vec) / y_train.shape[0]\n",
    "print(f'train_accuracy: {train_accuracy_vec}, loss_vec: {loss_vec}')"
   ]
  },
  {
   "cell_type": "code",
   "execution_count": 19,
   "metadata": {},
   "outputs": [],
   "source": [
    "# Y_hat = solver.predict(X_train, Z, Z_prime)\n",
    "# y_pred = np.argmax(Y_hat, axis=1)\n",
    "# train_accuracy = np.sum(y_train == y_pred) / y_train.shape[0]\n",
    "# print(f'train_accuracy: {train_accuracy}, loss: {loss}')"
   ]
  },
  {
   "cell_type": "code",
   "execution_count": null,
   "metadata": {},
   "outputs": [],
   "source": []
  }
 ]
}