{
 "metadata": {
  "language_info": {
   "codemirror_mode": {
    "name": "ipython",
    "version": 3
   },
   "file_extension": ".py",
   "mimetype": "text/x-python",
   "name": "python",
   "nbconvert_exporter": "python",
   "pygments_lexer": "ipython3",
   "version": "3.8.8"
  },
  "orig_nbformat": 2,
  "kernelspec": {
   "name": "python388jvsc74a57bd09577b925a68854775df3f8f47c8cb48d58c3aba35c875d15bb2fa55a13640e45",
   "display_name": "Python 3.8.8 64-bit ('cs231n': conda)"
  }
 },
 "nbformat": 4,
 "nbformat_minor": 2,
 "cells": [
  {
   "cell_type": "code",
   "execution_count": 57,
   "metadata": {},
   "outputs": [],
   "source": [
    "# Uncomment this if you are using Colab\n",
    "\n",
    "# from google.colab import drive\n",
    "# drive.mount('/content/drive', force_remount=True)\n",
    "\n",
    "# import sys\n",
    "# sys.path.append('/content/drive/My Drive/cs231n-project/')"
   ]
  },
  {
   "cell_type": "code",
   "execution_count": 58,
   "metadata": {},
   "outputs": [
    {
     "output_type": "stream",
     "name": "stdout",
     "text": [
      "The autoreload extension is already loaded. To reload it, use:\n  %reload_ext autoreload\n"
     ]
    }
   ],
   "source": [
    "import numpy as np \n",
    "import cvxpy as cp\n",
    "import time\n",
    "import matplotlib.pyplot as plt\n",
    "from lib.utils import relative_error\n",
    "\n",
    "# This is a bit of magic to make matplotlib figures appear inline in the notebook\n",
    "# rather than in a new window.\n",
    "%matplotlib inline\n",
    "plt.rcParams['figure.figsize'] = (10.0, 8.0) # set default size of plots\n",
    "plt.rcParams['image.interpolation'] = 'nearest'\n",
    "plt.rcParams['image.cmap'] = 'gray'\n",
    "\n",
    "# Some more magic so that the notebook will reload external python modules;\n",
    "# see http://stackoverflow.com/questions/1907993/autoreload-of-modules-in-ipython\n",
    "%load_ext autoreload\n",
    "%autoreload 2"
   ]
  },
  {
   "cell_type": "code",
   "execution_count": 59,
   "metadata": {},
   "outputs": [
    {
     "output_type": "stream",
     "name": "stdout",
     "text": [
      "C: 5\nX_train.shape = (6500, 8, 8)\ny_train.shape = (6500,)\nX_test.shape = (250, 8, 8)\ny_test.shape = (250,)\nX_train.shape = (500, 64)\ny_train.shape = (500,)\nX_test.shape = (100, 64)\ny_test.shape = (100,)\n"
     ]
    }
   ],
   "source": [
    "dataset_name = \"ImageNet_8x8_5c\"\n",
    "X_train = np.load(f'data/ImageNet_8x8/X_{dataset_name}_train.npy')\n",
    "y_train = np.load(f'data/ImageNet_8x8/y_{dataset_name}_train.npy')\n",
    "y_train -= 1 # labels start from one, but we want them to start from 0\n",
    "X_test = np.load(f'data/ImageNet_8x8/X_{dataset_name}_test.npy')\n",
    "y_test = np.load(f'data/ImageNet_8x8/y_{dataset_name}_test.npy')\n",
    "y_test -= 1 # labels start from one, but we want them to start from 0\n",
    "C = y_train.max() + 1 # number of classes\n",
    "print(f'C: {C}')\n",
    "print(f'X_train.shape = {X_train.shape}')\n",
    "print(f'y_train.shape = {y_train.shape}')\n",
    "print(f'X_test.shape = {X_test.shape}')\n",
    "print(f'y_test.shape = {y_test.shape}')\n",
    "\n",
    "def flatten(x):\n",
    "    return x.reshape((x.shape[0], -1))\n",
    "\n",
    "NUM_TRAIN = 500\n",
    "NUM_TEST = 100\n",
    "X_train = flatten(X_train)[:NUM_TRAIN]\n",
    "y_train = y_train[:NUM_TRAIN]\n",
    "X_test = flatten(X_test)[:NUM_TEST]\n",
    "y_test = y_test[:NUM_TEST]\n",
    "print(f'X_train.shape = {X_train.shape}')\n",
    "print(f'y_train.shape = {y_train.shape}')\n",
    "print(f'X_test.shape = {X_test.shape}')\n",
    "print(f'y_test.shape = {y_test.shape}')"
   ]
  },
  {
   "cell_type": "code",
   "execution_count": 60,
   "metadata": {},
   "outputs": [],
   "source": [
    "from lib.convex_fc_vector import Convex_FC_Vector_Solver, Convex_FC_Vector_Solver_Vectorized"
   ]
  },
  {
   "cell_type": "code",
   "execution_count": 61,
   "metadata": {},
   "outputs": [
    {
     "output_type": "stream",
     "name": "stdout",
     "text": [
      "Y.shape = (500, 5)\n",
      "X_V.shape = (500, 4161)\n",
      "Z_V.shape = (4161, 5)\n",
      "########\n",
      "Started Convex FC Vector Solver...\n",
      "===============================================================================\n",
      "                                     CVXPY                                     \n",
      "                                    v1.1.12                                    \n",
      "===============================================================================\n",
      "(CVXPY) May 11 10:15:31 PM: Your problem has 41610 variables, 20 constraints, and 0 parameters.\n",
      "(CVXPY) May 11 10:15:31 PM: It is compliant with the following grammars: DCP, DQCP\n",
      "(CVXPY) May 11 10:15:31 PM: (If you need to solve this problem multiple times, but with different data, consider using parameters.)\n",
      "(CVXPY) May 11 10:15:31 PM: CVXPY will first compile your problem; then, it will invoke a numerical solver to obtain a solution.\n",
      "-------------------------------------------------------------------------------\n",
      "                                  Compilation                                  \n",
      "-------------------------------------------------------------------------------\n",
      "(CVXPY) May 11 10:15:31 PM: Compiling problem (target solver=SCS).\n",
      "(CVXPY) May 11 10:15:31 PM: Reduction chain: Dcp2Cone -> CvxAttr2Constr -> ConeMatrixStuffing -> SCS\n",
      "(CVXPY) May 11 10:15:31 PM: Applying reduction Dcp2Cone\n",
      "(CVXPY) May 11 10:15:31 PM: Applying reduction CvxAttr2Constr\n",
      "(CVXPY) May 11 10:15:31 PM: Applying reduction ConeMatrixStuffing\n",
      "(CVXPY) May 11 10:15:40 PM: Applying reduction SCS\n",
      "(CVXPY) May 11 10:15:42 PM: Finished problem compilation (took 1.091e+01 seconds).\n",
      "-------------------------------------------------------------------------------\n",
      "                                Numerical solver                               \n",
      "-------------------------------------------------------------------------------\n",
      "(CVXPY) May 11 10:15:42 PM: Invoking solver SCS  to obtain a solution.\n",
      "----------------------------------------------------------------------------\n",
      "\tSCS v2.1.3 - Splitting Conic Solver\n",
      "\t(c) Brendan O'Donoghue, Stanford University, 2012\n",
      "----------------------------------------------------------------------------\n",
      "Lin-sys: sparse-direct, nnz in A = 10747102\n",
      "eps = 1.00e-04, alpha = 1.50, max_iters = 50000, normalize = 1, scale = 1.00\n",
      "acceleration_lookback = 10, rho_x = 1.00e-03\n",
      "Variables n = 21451, constraints m = 23962\n",
      "Cones:\tprimal zero / dual free vars: 10\n",
      "\tsoc vars: 2502, soc blks: 1\n",
      "\tsd vars: 21450, sd blks: 10\n",
      "Setup time: 1.01e+01s\n",
      "----------------------------------------------------------------------------\n",
      " Iter | pri res | dua res | rel gap | pri obj | dua obj | kap/tau | time (s)\n",
      "----------------------------------------------------------------------------\n",
      "     0| 1.52e+20  4.73e+23  1.00e+00 -5.88e+20  2.71e+21  2.39e+21  1.61e-01 \n",
      "   100| 6.16e-04  1.01e+01  1.52e-04  2.48e-04  9.54e-05  1.37e-17  6.34e+00 \n",
      "   200| 1.12e-09  2.02e-05  3.96e-10  7.66e-10  3.70e-10  3.60e-17  1.23e+01 \n",
      "----------------------------------------------------------------------------\n",
      "Status: Solved\n",
      "Timing: Solve time: 1.23e+01s\n",
      "\tLin-sys: nnz in L factor: 21821265, avg solve time: 5.51e-02s\n",
      "\tCones: avg projection time: 2.12e-03s\n",
      "\tAcceleration: avg step time: 1.91e-03s\n",
      "----------------------------------------------------------------------------\n",
      "Error metrics:\n",
      "dist(s, K) = 1.4433e-15, dist(y, K*) = 0.0000e+00, s'y/|s||y| = -1.6881e-15\n",
      "primal res: |Ax + s - b|_2 / (1 + |b|_2) = 1.1221e-09\n",
      "dual res:   |A'y + c|_2 / (1 + |c|_2) = 2.0242e-05\n",
      "rel gap:    |c'x + b'y| / (1 + |c'x| + |b'y|) = 3.9626e-10\n",
      "----------------------------------------------------------------------------\n",
      "c'x = 0.0000, -b'y = 0.0000\n",
      "============================================================================\n",
      "-------------------------------------------------------------------------------\n",
      "                                    Summary                                    \n",
      "-------------------------------------------------------------------------------\n",
      "(CVXPY) May 11 10:16:05 PM: Problem status: optimal\n",
      "(CVXPY) May 11 10:16:05 PM: Optimal value: 3.734e-16\n",
      "(CVXPY) May 11 10:16:05 PM: Compilation took 1.091e+01 seconds\n",
      "(CVXPY) May 11 10:16:05 PM: Solver (including time spent in interface) took 2.252e+01 seconds\n",
      "Finished, time elapsed: 33.455556869506836\n",
      "Status: optimal\n",
      "Optimal value: 3.734192662326168e-16\n",
      "########\n"
     ]
    }
   ],
   "source": [
    "solver = Convex_FC_Vector_Solver_Vectorized()\n",
    "Z, Z_prime, loss = solver.solve(X_train, y_train, C, beta=0, max_iters=50000, verbose=True)\n",
    "\n"
   ]
  },
  {
   "cell_type": "code",
   "execution_count": 62,
   "metadata": {},
   "outputs": [
    {
     "output_type": "stream",
     "name": "stdout",
     "text": [
      "train_accuracy: 1.0, loss_vec: 3.734192662326168e-16\ntest_accuracy: 0.23\n"
     ]
    }
   ],
   "source": [
    "# TRAIN\n",
    "Y_hat = solver.predict(X_train, Z, Z_prime)\n",
    "y_pred = np.argmax(Y_hat, axis=1)\n",
    "train_accuracy = np.sum(y_train == y_pred) / y_train.shape[0]\n",
    "print(f'train_accuracy: {train_accuracy}, loss_vec: {loss}')\n",
    "\n",
    "# TEST\n",
    "Y_hat_test = solver.predict(X_test, Z, Z_prime)\n",
    "y_pred_test = np.argmax(Y_hat_test, axis=1)\n",
    "test_accuracy = np.sum(y_test == y_pred_test) / y_test.shape[0]\n",
    "print(f'test_accuracy: {test_accuracy}')"
   ]
  },
  {
   "cell_type": "code",
   "execution_count": 63,
   "metadata": {},
   "outputs": [
    {
     "output_type": "stream",
     "name": "stdout",
     "text": [
      "num_neurons: 605\n"
     ]
    }
   ],
   "source": [
    "def compute_number_of_neurons(Z, Z_prime, tolerance):\n",
    "    count = 0\n",
    "    assert len(Z) == len(Z_prime)\n",
    "    for k in range(len(Z)):\n",
    "        eigvals1, _ = np.linalg.eig(Z[k])\n",
    "        eigvals2, _ = np.linalg.eig(Z_prime[k])\n",
    "        count += np.sum(eigvals1 > tolerance) + np.sum(eigvals2 > tolerance)\n",
    "    return count\n",
    "\n",
    "print(f'num_neurons: {compute_number_of_neurons(Z_vec, Z_prime_vec, tolerance=1e-6)}')"
   ]
  },
  {
   "cell_type": "code",
   "execution_count": null,
   "metadata": {},
   "outputs": [],
   "source": []
  }
 ]
}